{
 "cells": [
  {
   "cell_type": "code",
   "execution_count": 6,
   "metadata": {},
   "outputs": [],
   "source": [
    "import pandas as pd\n",
    "import numpy as np\n",
    "import firebase_admin\n",
    "from firebase_admin import credentials\n",
    "from firebase_admin import firestore"
   ]
  },
  {
   "cell_type": "code",
   "execution_count": 3,
   "metadata": {},
   "outputs": [],
   "source": [
    "df = pd.read_json(\"vocab.json\")"
   ]
  },
  {
   "cell_type": "code",
   "execution_count": 4,
   "metadata": {},
   "outputs": [
    {
     "data": {
      "text/html": [
       "<div>\n",
       "<style scoped>\n",
       "    .dataframe tbody tr th:only-of-type {\n",
       "        vertical-align: middle;\n",
       "    }\n",
       "\n",
       "    .dataframe tbody tr th {\n",
       "        vertical-align: top;\n",
       "    }\n",
       "\n",
       "    .dataframe thead th {\n",
       "        text-align: right;\n",
       "    }\n",
       "</style>\n",
       "<table border=\"1\" class=\"dataframe\">\n",
       "  <thead>\n",
       "    <tr style=\"text-align: right;\">\n",
       "      <th></th>\n",
       "      <th>Kana</th>\n",
       "      <th>Kanji</th>\n",
       "      <th>Meaning</th>\n",
       "      <th>Lesson</th>\n",
       "    </tr>\n",
       "  </thead>\n",
       "  <tbody>\n",
       "    <tr>\n",
       "      <th>0</th>\n",
       "      <td>あの</td>\n",
       "      <td></td>\n",
       "      <td>um...</td>\n",
       "      <td>1</td>\n",
       "    </tr>\n",
       "    <tr>\n",
       "      <th>1</th>\n",
       "      <td>いま</td>\n",
       "      <td>今</td>\n",
       "      <td>now</td>\n",
       "      <td>1</td>\n",
       "    </tr>\n",
       "    <tr>\n",
       "      <th>2</th>\n",
       "      <td>えいご</td>\n",
       "      <td>英語</td>\n",
       "      <td>English (language)</td>\n",
       "      <td>1</td>\n",
       "    </tr>\n",
       "    <tr>\n",
       "      <th>3</th>\n",
       "      <td>がくせい</td>\n",
       "      <td>学生</td>\n",
       "      <td>student</td>\n",
       "      <td>1</td>\n",
       "    </tr>\n",
       "    <tr>\n",
       "      <th>4</th>\n",
       "      <td>〜ご</td>\n",
       "      <td>〜語</td>\n",
       "      <td>language</td>\n",
       "      <td>1</td>\n",
       "    </tr>\n",
       "    <tr>\n",
       "      <th>...</th>\n",
       "      <td>...</td>\n",
       "      <td>...</td>\n",
       "      <td>...</td>\n",
       "      <td>...</td>\n",
       "    </tr>\n",
       "    <tr>\n",
       "      <th>1133</th>\n",
       "      <td>げんきでね</td>\n",
       "      <td>元気でね</td>\n",
       "      <td>Take care of yourself.</td>\n",
       "      <td>23</td>\n",
       "    </tr>\n",
       "    <tr>\n",
       "      <th>1134</th>\n",
       "      <td>そうそう</td>\n",
       "      <td></td>\n",
       "      <td>You are right.</td>\n",
       "      <td>23</td>\n",
       "    </tr>\n",
       "    <tr>\n",
       "      <th>1135</th>\n",
       "      <td>そろそろ</td>\n",
       "      <td></td>\n",
       "      <td>it is about time to ...</td>\n",
       "      <td>23</td>\n",
       "    </tr>\n",
       "    <tr>\n",
       "      <th>1136</th>\n",
       "      <td>そんな〜</td>\n",
       "      <td></td>\n",
       "      <td>such ...; that kind of ...</td>\n",
       "      <td>23</td>\n",
       "    </tr>\n",
       "    <tr>\n",
       "      <th>1137</th>\n",
       "      <td>ものすごく</td>\n",
       "      <td></td>\n",
       "      <td>extremely</td>\n",
       "      <td>23</td>\n",
       "    </tr>\n",
       "  </tbody>\n",
       "</table>\n",
       "<p>1138 rows × 4 columns</p>\n",
       "</div>"
      ],
      "text/plain": [
       "       Kana Kanji                     Meaning  Lesson\n",
       "0        あの                             um...       1\n",
       "1        いま     今                         now       1\n",
       "2       えいご    英語          English (language)       1\n",
       "3      がくせい    学生                     student       1\n",
       "4        〜ご    〜語                    language       1\n",
       "...     ...   ...                         ...     ...\n",
       "1133  げんきでね  元気でね      Take care of yourself.      23\n",
       "1134   そうそう                    You are right.      23\n",
       "1135   そろそろ           it is about time to ...      23\n",
       "1136   そんな〜        such ...; that kind of ...      23\n",
       "1137  ものすごく                         extremely      23\n",
       "\n",
       "[1138 rows x 4 columns]"
      ]
     },
     "execution_count": 4,
     "metadata": {},
     "output_type": "execute_result"
    }
   ],
   "source": [
    "df"
   ]
  },
  {
   "cell_type": "code",
   "execution_count": null,
   "metadata": {},
   "outputs": [],
   "source": []
  },
  {
   "cell_type": "code",
   "execution_count": 11,
   "metadata": {},
   "outputs": [],
   "source": [
    "db = firestore.client()\n",
    "grouped_lessons = df.groupby(\"Lesson\")\n",
    "lessons_collection_ref = db.collection(\"lessons\")\n"
   ]
  },
  {
   "cell_type": "code",
   "execution_count": 12,
   "metadata": {},
   "outputs": [
    {
     "name": "stdout",
     "output_type": "stream",
     "text": [
      "Data has been successfully uploaded to Firestore.\n"
     ]
    }
   ],
   "source": [
    "for lesson_id, group_df in grouped_lessons:\n",
    "    # Create lesson document\n",
    "    lesson_doc_ref = lessons_collection_ref.document(f\"lesson_{lesson_id}\")\n",
    "    lesson_data = {\"lesson_name\": f\"Lesson {lesson_id}\"}\n",
    "    lesson_doc_ref.set(lesson_data)\n",
    "\n",
    "    # Create words subcollection reference\n",
    "    words_collection_ref = lesson_doc_ref.collection(\"words\")\n",
    "\n",
    "    # Iterate over words in the lesson\n",
    "    for index, row in group_df.iterrows():\n",
    "        word_data = {\n",
    "            \"kana\": row[\"Kana\"],\n",
    "            \"kanji\": row[\"Kanji\"],\n",
    "            \"meaning\": row[\"Meaning\"]\n",
    "        }\n",
    "        # Create word document in the words subcollection\n",
    "        word_doc_ref = words_collection_ref.document(f\"word_{index}\")\n",
    "        word_doc_ref.set(word_data)\n",
    "\n",
    "print(\"Data has been successfully uploaded to Firestore.\")"
   ]
  }
 ],
 "metadata": {
  "kernelspec": {
   "display_name": ".venv",
   "language": "python",
   "name": "python3"
  },
  "language_info": {
   "codemirror_mode": {
    "name": "ipython",
    "version": 3
   },
   "file_extension": ".py",
   "mimetype": "text/x-python",
   "name": "python",
   "nbconvert_exporter": "python",
   "pygments_lexer": "ipython3",
   "version": "3.10.5"
  }
 },
 "nbformat": 4,
 "nbformat_minor": 2
}
